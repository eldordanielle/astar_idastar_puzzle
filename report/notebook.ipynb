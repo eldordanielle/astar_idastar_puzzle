{
 "cells": [
  {
   "cell_type": "code",
   "execution_count": null,
   "id": "e329a4ce",
   "metadata": {},
   "outputs": [
    {
     "name": "stdout",
     "output_type": "stream",
     "text": [
      "/home/eldord/astar_idastar_puzzle/results/astar_vs_ida_linear.csv: ERROR 'algorithm'\n",
      "/home/eldord/astar_idastar_puzzle/results/ida_bpmx.csv: ERROR 'algorithm'\n",
      "/home/eldord/astar_idastar_puzzle/results/ida_bpmx_comprehensive.csv: ERROR 'algorithm'\n",
      "/home/eldord/astar_idastar_puzzle/results/ida_bpmx_deep.csv: ERROR 'algorithm'\n",
      "/home/eldord/astar_idastar_puzzle/results/ida_bpmx_deep_fixed.csv: ERROR 'algorithm'\n",
      "/home/eldord/astar_idastar_puzzle/results/ida_bpmx_deep_fixed2.csv: ERROR 'algorithm'\n",
      "/home/eldord/astar_idastar_puzzle/results/ida_bpmx_final.csv: ERROR 'algorithm'\n",
      "/home/eldord/astar_idastar_puzzle/results/ida_bpmx_fixed.csv: ERROR 'algorithm'\n",
      "/home/eldord/astar_idastar_puzzle/results/ida_bpmx_fixed2.csv: ERROR 'algorithm'\n",
      "/home/eldord/astar_idastar_puzzle/results/ida_bpmx_fixed3.csv: ERROR 'algorithm'\n",
      "/home/eldord/astar_idastar_puzzle/results/ida_plain.csv: ERROR 'algorithm'\n",
      "/home/eldord/astar_idastar_puzzle/results/ida_plain_deep.csv: ERROR 'algorithm'\n",
      "/home/eldord/astar_idastar_puzzle/results/last_run.csv: ERROR 'algorithm'\n",
      "/home/eldord/astar_idastar_puzzle/results/linear.csv: ERROR 'algorithm'\n",
      "/home/eldord/astar_idastar_puzzle/results/linear_conflict.csv: ERROR 'algorithm'\n",
      "/home/eldord/astar_idastar_puzzle/results/linear_conflict_comprehensive.csv: ERROR 'algorithm'\n",
      "/home/eldord/astar_idastar_puzzle/results/manhattan.csv: ERROR 'algorithm'\n",
      "/home/eldord/astar_idastar_puzzle/results/manhattan_comprehensive.csv: ERROR 'algorithm'\n",
      "/home/eldord/astar_idastar_puzzle/results/mani.csv: ERROR 'algorithm'\n",
      "/home/eldord/astar_idastar_puzzle/results/p15_deep_manhattan.csv: {'A*': [10, 12, 14, 16, 18], 'IDA*': [10, 12, 14, 16, 18]}\n",
      "/home/eldord/astar_idastar_puzzle/results/p15_ida_bpmx.csv: {'IDA* (BPMX ON)': [8, 10, 12, 14]}\n",
      "/home/eldord/astar_idastar_puzzle/results/p15_ida_bpmx_deep.csv: {'IDA* (BPMX ON)': [16, 18]}\n",
      "/home/eldord/astar_idastar_puzzle/results/p15_ida_plain.csv: {'IDA*': [8, 10, 12, 14]}\n",
      "/home/eldord/astar_idastar_puzzle/results/p15_ida_plain_deep.csv: {'IDA*': [16, 18]}\n",
      "/home/eldord/astar_idastar_puzzle/results/p15_linear.csv: {'A*': [6, 8, 10, 12, 14], 'IDA*': [6, 8, 10, 12, 14]}\n",
      "/home/eldord/astar_idastar_puzzle/results/p15_linear_conflict_deep.csv: {'A*': [6, 8, 10, 12, 14, 16], 'IDA*': [6, 8, 10, 12, 14, 16]}\n",
      "/home/eldord/astar_idastar_puzzle/results/p15_manhattan.csv: {'A*': [6, 8, 10, 12, 14, 16], 'IDA*': [6, 8, 10, 12, 14, 16]}\n",
      "/home/eldord/astar_idastar_puzzle/results/p15_manhattan_deep.csv: {'A*': [6, 8, 10, 12, 14, 16], 'IDA*': [6, 8, 10, 12, 14, 16]}\n",
      "/home/eldord/astar_idastar_puzzle/results/p8_all_small.csv: {'A*': [6, 8, 10], 'IDA*': [6, 8, 10]}\n",
      "/home/eldord/astar_idastar_puzzle/results/p8_all_solv_unsolv.csv: {'A*': [8, 10, 12], 'IDA*': [8, 10, 12], 'BFS': [8, 10, 12], 'DFS': [8, 10, 12]}\n",
      "/home/eldord/astar_idastar_puzzle/results/p8_ida_bpmx.csv: {'IDA* (BPMX ON)': [4, 6, 8, 10, 12, 14, 16, 18, 20]}\n",
      "/home/eldord/astar_idastar_puzzle/results/p8_ida_plain.csv: {'IDA*': [4, 6, 8, 10, 12, 14, 16, 18, 20]}\n",
      "/home/eldord/astar_idastar_puzzle/results/p8_linear.csv: {'A*': [4, 6, 8, 10, 12, 14, 16, 18, 20, 22], 'IDA*': [4, 6, 8, 10, 12, 14, 16, 18, 20, 22]}\n",
      "/home/eldord/astar_idastar_puzzle/results/p8_linear_conflict_deep.csv: {'A*': [6, 8, 10, 12, 14, 16, 18, 20, 22], 'IDA*': [6, 8, 10, 12, 14, 16, 18, 20, 22]}\n",
      "/home/eldord/astar_idastar_puzzle/results/p8_manhattan.csv: {'A*': [4, 6, 8, 10, 12, 14, 16, 18, 20, 22], 'IDA*': [4, 6, 8, 10, 12, 14, 16, 18, 20, 22]}\n",
      "/home/eldord/astar_idastar_puzzle/results/p8_manhattan_deep.csv: {'A*': [6, 8, 10, 12, 14, 16, 18, 20, 22], 'IDA*': [6, 8, 10, 12, 14, 16, 18, 20, 22]}\n",
      "/home/eldord/astar_idastar_puzzle/results/p8_solvable_unsolvable.csv: {'A*': [8, 10, 12], 'IDA*': [8, 10, 12]}\n",
      "/home/eldord/astar_idastar_puzzle/results/r3x4_ida_linear_bpmx.csv: {'IDA* (BPMX ON)': [6, 8, 10, 12]}\n",
      "/home/eldord/astar_idastar_puzzle/results/r3x4_ida_linear_plain.csv: {'IDA*': [6, 8, 10, 12]}\n",
      "/home/eldord/astar_idastar_puzzle/results/r3x4_ida_manhattan_bpmx.csv: {'IDA* (BPMX ON)': [6, 8, 10, 12]}\n",
      "/home/eldord/astar_idastar_puzzle/results/r3x4_ida_manhattan_plain.csv: {'IDA*': [6, 8, 10, 12]}\n",
      "/home/eldord/astar_idastar_puzzle/results/r3x4_linear.csv: {'A*': [6, 8, 10, 12], 'IDA*': [6, 8, 10, 12]}\n",
      "/home/eldord/astar_idastar_puzzle/results/r3x4_linear_conflict.csv: {'A*': [6, 8, 10, 12, 14, 16], 'IDA*': [6, 8, 10, 12, 14, 16]}\n",
      "/home/eldord/astar_idastar_puzzle/results/r3x4_linear_conflict_deep.csv: {'A*': [6, 8, 10, 12, 14, 16], 'IDA*': [6, 8, 10, 12, 14, 16]}\n",
      "/home/eldord/astar_idastar_puzzle/results/r3x4_manhattan.csv: {'A*': [6, 8, 10, 12, 14, 16], 'IDA*': [6, 8, 10, 12, 14, 16]}\n",
      "/home/eldord/astar_idastar_puzzle/results/r3x4_manhattan_deep.csv: {'A*': [6, 8, 10, 12, 14, 16], 'IDA*': [6, 8, 10, 12, 14, 16]}\n",
      "/home/eldord/astar_idastar_puzzle/results/r3x5_ida_linear_bpmx.csv: {'IDA* (BPMX ON)': [6, 8, 10, 12]}\n",
      "/home/eldord/astar_idastar_puzzle/results/r3x5_ida_linear_plain.csv: {'IDA*': [6, 8, 10, 12]}\n",
      "/home/eldord/astar_idastar_puzzle/results/r3x5_ida_manhattan_bpmx.csv: {'IDA* (BPMX ON)': [6, 8, 10, 12]}\n",
      "/home/eldord/astar_idastar_puzzle/results/r3x5_ida_manhattan_plain.csv: {'IDA*': [6, 8, 10, 12]}\n",
      "/home/eldord/astar_idastar_puzzle/results/r3x5_linear.csv: {'A*': [6, 8, 10, 12], 'IDA*': [6, 8, 10, 12]}\n",
      "/home/eldord/astar_idastar_puzzle/results/r3x5_linear_conflict_deep.csv: {'A*': [6, 8, 10, 12, 14, 16], 'IDA*': [6, 8, 10, 12, 14, 16]}\n",
      "/home/eldord/astar_idastar_puzzle/results/r3x5_manhattan.csv: {'A*': [6, 8, 10, 12, 14, 16], 'IDA*': [6, 8, 10, 12, 14, 16]}\n",
      "/home/eldord/astar_idastar_puzzle/results/r3x5_manhattan_deep.csv: {'A*': [6, 8, 10, 12, 14, 16], 'IDA*': [6, 8, 10, 12, 14, 16]}\n",
      "/home/eldord/astar_idastar_puzzle/results/sanity_p15.csv: {'A*': [4, 6], 'IDA*': [4, 6]}\n",
      "/home/eldord/astar_idastar_puzzle/results/smoke.csv: {'A*': [4, 6], 'IDA*': [4, 6]}\n",
      "/home/eldord/astar_idastar_puzzle/results/smoke_p15.csv: {'A*': [6, 8, 10], 'IDA*': [6, 8, 10]}\n",
      "/home/eldord/astar_idastar_puzzle/results/smoke_p8.csv: {'A*': [4, 6], 'IDA*': [4, 6]}\n"
     ]
    },
    {
     "ename": "",
     "evalue": "",
     "output_type": "error",
     "traceback": [
      "\u001b[1;31mThe Kernel crashed while executing code in the current cell or a previous cell. \n",
      "\u001b[1;31mPlease review the code in the cell(s) to identify a possible cause of the failure. \n",
      "\u001b[1;31mClick <a href='https://aka.ms/vscodeJupyterKernelCrash'>here</a> for more info. \n",
      "\u001b[1;31mView Jupyter <a href='command:jupyter.viewOutput'>log</a> for further details."
     ]
    }
   ],
   "source": [
    "import pandas as pd, glob\n",
    "for f in sorted(glob.glob(\"/home/eldord/astar_idastar_puzzle/results/*.csv\")):\n",
    "    try:\n",
    "        df = pd.read_csv(f)\n",
    "        if \"termination\" in df.columns:\n",
    "            df = df[df[\"termination\"].fillna(\"ok\")==\"ok\"]\n",
    "        cov = {alg: sorted(df.loc[df.algorithm==alg,\"depth\"].unique().tolist())\n",
    "               for alg in df[\"algorithm\"].unique()}\n",
    "        print(f\"{f}: {cov}\")\n",
    "    except Exception as e:\n",
    "        print(f\"{f}: ERROR {e}\")\n"
   ]
  },
  {
   "cell_type": "code",
   "execution_count": 2,
   "id": "aef4bd9f",
   "metadata": {},
   "outputs": [
    {
     "name": "stdout",
     "output_type": "stream",
     "text": [
      "merged -> /home/eldord/astar_idastar_puzzle/results/p15_manhattan.csv\n"
     ]
    }
   ],
   "source": [
    "# one-off: merge p15_deep_manhattan.csv into p15_manhattan.csv\n",
    "from pathlib import Path\n",
    "import pandas as pd\n",
    "base = Path(\"/home/eldord/astar_idastar_puzzle/results/p15_manhattan.csv\")\n",
    "deep = Path(\"/home/eldord/astar_idastar_puzzle/results/p15_deep_manhattan.csv\")\n",
    "db = pd.read_csv(base); dd = pd.read_csv(deep)\n",
    "for d in (db, dd):\n",
    "    if \"termination\" in d.columns:\n",
    "        d = d[d[\"termination\"].fillna(\"ok\")==\"ok\"]\n",
    "out = pd.concat([db, dd], ignore_index=True).drop_duplicates()\n",
    "out.to_csv(base, index=False)\n",
    "print(\"merged ->\", base)\n"
   ]
  },
  {
   "cell_type": "code",
   "execution_count": 4,
   "id": "81ec83fa",
   "metadata": {},
   "outputs": [
    {
     "name": "stdout",
     "output_type": "stream",
     "text": [
      "/home/eldord/astar_idastar_puzzle/results/p8_manhattan.csv {'A*': [18, 20], 'IDA*': [18, 20]}\n",
      "/home/eldord/astar_idastar_puzzle/results/r3x4_manhattan.csv {'A*': [18, 20], 'IDA*': [18, 20]}\n",
      "/home/eldord/astar_idastar_puzzle/results/r3x5_manhattan.csv {'A*': [18, 20], 'IDA*': [18, 20]}\n",
      "/home/eldord/astar_idastar_puzzle/results/p15_manhattan.csv {'A*': [18, 20], 'IDA*': [18, 20]}\n"
     ]
    }
   ],
   "source": [
    "import pandas as pd\n",
    "for f in [\"/home/eldord/astar_idastar_puzzle/results/p8_manhattan.csv\",\"/home/eldord/astar_idastar_puzzle/results/r3x4_manhattan.csv\",\n",
    "          \"/home/eldord/astar_idastar_puzzle/results/r3x5_manhattan.csv\",\"/home/eldord/astar_idastar_puzzle/results/p15_manhattan.csv\"]:\n",
    "    df = pd.read_csv(f)\n",
    "    if \"termination\" in df.columns:\n",
    "        df = df[df[\"termination\"].fillna(\"ok\")==\"ok\"]\n",
    "    cov = {alg: sorted(df.loc[df.algorithm==alg,\"depth\"].unique().tolist())\n",
    "           for alg in df[\"algorithm\"].unique()}\n",
    "    print(f, cov)\n"
   ]
  },
  {
   "cell_type": "code",
   "execution_count": null,
   "id": "df0c0d1c",
   "metadata": {},
   "outputs": [],
   "source": []
  }
 ],
 "metadata": {
  "kernelspec": {
   "display_name": "subpop",
   "language": "python",
   "name": "python3"
  },
  "language_info": {
   "codemirror_mode": {
    "name": "ipython",
    "version": 3
   },
   "file_extension": ".py",
   "mimetype": "text/x-python",
   "name": "python",
   "nbconvert_exporter": "python",
   "pygments_lexer": "ipython3",
   "version": "3.10.18"
  }
 },
 "nbformat": 4,
 "nbformat_minor": 5
}
